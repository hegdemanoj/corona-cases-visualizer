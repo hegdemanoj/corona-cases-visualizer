{
 "cells": [
  {
   "cell_type": "code",
   "execution_count": 49,
   "metadata": {},
   "outputs": [],
   "source": [
    "from geopy.geocoders import Nominatim\n",
    "import random"
   ]
  },
  {
   "cell_type": "code",
   "execution_count": null,
   "metadata": {},
   "outputs": [],
   "source": [
    "geolocator = Nominatim(user_agent=\"specify_your_app_name_here\")"
   ]
  },
  {
   "cell_type": "code",
   "execution_count": null,
   "metadata": {},
   "outputs": [],
   "source": [
    "location = geolocator.geocode(\"Thrissur,Kerala\")"
   ]
  },
  {
   "cell_type": "code",
   "execution_count": null,
   "metadata": {},
   "outputs": [],
   "source": [
    "print((location.latitude, location.longitude))"
   ]
  },
  {
   "cell_type": "code",
   "execution_count": 48,
   "metadata": {},
   "outputs": [
    {
     "data": {
      "text/plain": [
       "[[47.91238292442621, 4.619490180274252, -0.4910191245657445],\n",
       " [47.39794148649523, 3.9458161481720735, 1.228640362517287],\n",
       " [48.36541573552928, 5.292715687625006, 2.5181295356774243],\n",
       " [46.871603790119465, 3.5013337732562473, 0.05156033145942651],\n",
       " [49.84249048670383, 6.6012238955814775, 0.9113840135577074],\n",
       " [46.71681884999191, 4.901057230013521, -0.14340312743958972],\n",
       " [48.520263313945044, 4.638794763341156, -0.19115613840629586],\n",
       " [49.18744075844746, 4.149529793419479, 3.9367725363194723],\n",
       " [49.2865812713299, 5.894250768395694, 1.974725054135154],\n",
       " [48.90374909500316, 4.065944011211596, 0.9656195549223345],\n",
       " [47.10526706266325, 3.1441300166795383, 3.386808151213683],\n",
       " [47.31890228563598, 4.139548872525561, 1.0460074916502962],\n",
       " [48.57084722891483, 3.9905428153131424, 0.7024184587251594],\n",
       " [48.32543533151617, 4.758319943411033, 1.5773480749150541],\n",
       " [48.201482158599056, 3.362220798967269, 1.5648256053419836],\n",
       " [48.725134234375915, 5.214963058301101, 0.6579043496239583],\n",
       " [47.51444567311479, 5.825700587816479, 2.149264799143693],\n",
       " [47.849427978374834, 5.0775725600806485, 2.2376069127083493],\n",
       " [46.90198204273592, 7.236638930957211, 1.2693039377312074],\n",
       " [48.47363176614138, 4.12471904532684, -0.25538651965088155],\n",
       " [48.31252757150555, 6.625375510211405, 2.1690807762534003],\n",
       " [48.2180641210496, 2.5166606271515506, 1.1341449696978176],\n",
       " [46.9063378855608, 5.447207908393924, 2.192196766318439],\n",
       " [46.68262804042673, 4.0853829793605705, 1.9792631036009463],\n",
       " [47.70356904215898, 7.5346829150082355, 2.929876221163444],\n",
       " [49.56078146815835, 4.837106683677196, 2.5640002838618328],\n",
       " [47.00799527448556, 5.487453738315138, 1.8774600292866017],\n",
       " [47.93320406876618, 4.495712368781238, 0.5667582504049711],\n",
       " [46.25567563463109, 2.937875671167228, -1.428497443806286],\n",
       " [48.106045147433, 4.822505313264837, 1.100326610973201],\n",
       " [49.436106698329525, 4.52647880195693, 1.5382413375013808],\n",
       " [47.96352916068597, 5.361478468059181, 0.9166431265320047],\n",
       " [49.03602238763806, 6.1979532374387265, 1.2493967882927317],\n",
       " [47.47611395711816, 4.741189237740729, 0.48168823870766964],\n",
       " [48.76709555686111, 5.087074881414719, 0.4079067430993252],\n",
       " [45.583214707030486, 5.356721537483026, 0.7818708101848229],\n",
       " [47.40347808448406, 4.26685169513057, 0.6411379112838552],\n",
       " [48.84664834051139, 2.5187116486857923, 1.1520610708908636],\n",
       " [49.19710676274362, 6.10621704623271, 1.4781765747500382],\n",
       " [48.58186825141913, 4.417841293473527, 2.476212556599502],\n",
       " [46.90001566341425, 5.2341591032261565, 0.8903837280070587],\n",
       " [47.25828722380244, 4.684397045315705, 0.42796107817249185],\n",
       " [47.6854768561422, 4.743222328911361, 0.3403855404100081],\n",
       " [48.98879682438073, 5.09995769769403, 2.9688190819426366],\n",
       " [46.413009331981435, 5.9521924692997175, 0.38231077653034595],\n",
       " [46.97574256022631, 6.8881308410192075, 0.9504195317703306],\n",
       " [46.97558030968571, 3.833867191718893, 1.4299643851135613],\n",
       " [47.84261954697482, 3.290978004653894, 2.6879252618933696],\n",
       " [48.48216530217122, 5.331113387469809, 0.9167206443762245],\n",
       " [48.33470861220296, 5.291262381131667, -1.1182397962502133],\n",
       " [47.4880652756674, 5.322728742119251, 1.2614709308060468],\n",
       " [48.28408020229371, 5.403225641967431, 1.0377959017350544],\n",
       " [47.09110716947517, 5.932769949254156, 1.6126066914977626],\n",
       " [47.26171323782016, 5.814146835221287, 0.7766824730455024],\n",
       " [46.991982810483044, 4.6397680292692245, 1.9289698825891883],\n",
       " [48.1368889951744, 4.120607349877238, -0.41715630038723894],\n",
       " [47.22968958596147, 2.9159927320418584, 1.947424122999538],\n",
       " [48.350716148285954, 3.583609316890067, 0.8122832375346464],\n",
       " [47.76965206316321, 7.163839179984865, 1.185196721725611],\n",
       " [48.61218869276803, 6.640930775834766, 1.1268994857918133],\n",
       " [46.30068268669978, 5.054615211710629, 0.8769432658474763],\n",
       " [47.892842768423215, 6.06803568433264, 1.316845446733104],\n",
       " [47.80555675536675, 3.880094754433618, 0.871225586740524],\n",
       " [47.02121188339288, 4.942593464536257, 0.3221061394311707],\n",
       " [46.86290478395895, 4.710574590549048, -0.10561763780223843],\n",
       " [47.909469375142855, 5.942058154710363, 2.332626721171292],\n",
       " [49.15807890196016, 4.723560960858908, 2.0183807466350636],\n",
       " [47.787850787890655, 4.425506972310785, -0.9354472940307845],\n",
       " [47.98959856305119, 5.6989235078103055, -0.4034796536827734],\n",
       " [50.37053365344361, 5.896641852921142, 0.5009517143265982],\n",
       " [47.16937259088139, 4.312750545242041, 0.5539562704285477],\n",
       " [49.42866437421846, 4.256747088227346, 1.1549830075919658],\n",
       " [47.19454677330241, 4.641197472164592, 1.5503350848409299],\n",
       " [47.15298733376351, 3.603066057834785, 2.9757667453617076],\n",
       " [48.536093374515744, 4.56463777617221, 1.2086602259192243],\n",
       " [50.545415285040455, 4.1619360785984165, 0.32333413155782853],\n",
       " [50.54598543532482, 4.048178976808809, 0.6964388877997352],\n",
       " [48.16637214268806, 6.632480342845832, 1.8507436713290892],\n",
       " [50.83520194102117, 5.022280899698712, 1.4270689424536245],\n",
       " [47.68887521473627, 4.246850489368824, -0.18431533302449465],\n",
       " [45.951092525459586, 3.8078353966281555, 0.37485288353605506],\n",
       " [47.58100917977087, 4.948779797880888, -0.29529752992882363],\n",
       " [47.40903925371151, 4.7875933701859275, 0.09177619952889315],\n",
       " [47.12596291958669, 5.032275996880126, 1.760377399194065],\n",
       " [48.528055676156775, 3.337352732920479, -0.22333453850244012],\n",
       " [48.006144320975295, 4.995068927222916, 1.3800483852276249],\n",
       " [47.79970006136943, 4.191553770729424, -0.03844717374597484],\n",
       " [48.58144557109821, 3.3983141024024963, 1.010362121422794],\n",
       " [48.13891689020148, 4.8433583371746725, 0.2994420851325459],\n",
       " [48.458764147611845, 4.507394185323787, 0.417462510659541],\n",
       " [47.09421789504049, 4.518094768582407, 1.5682326709815144],\n",
       " [46.96624854926954, 5.969264070461977, 1.3287900160364026],\n",
       " [47.92987420805336, 5.3095715578048175, -0.004059791247247313],\n",
       " [47.08640693334043, 4.602095081726389, 1.2745746389192096],\n",
       " [48.99841641154826, 6.902151084790883, 0.6273629350047154],\n",
       " [46.822701607899496, 3.6927256800735293, 1.7216638404781697],\n",
       " [47.53025616313223, 3.620053810135415, 2.130692980328983],\n",
       " [48.07964072201989, 6.560105928212388, 0.8538776351962255],\n",
       " [49.21970702239296, 4.113017051456687, 4.2898312613673495],\n",
       " [46.62963626024724, 6.433892556082193, -0.4218043102337592]]"
      ]
     },
     "execution_count": 48,
     "metadata": {},
     "output_type": "execute_result"
    }
   ],
   "source": [
    "import numpy as np\n",
    "\n",
    "data = (\n",
    "    np.random.normal(size=(100, 3)) *\n",
    "    np.array([[1, 1, 1]]) +\n",
    "    np.array([[48, 5, 1]])\n",
    ").tolist()\n",
    "data"
   ]
  },
  {
   "cell_type": "code",
   "execution_count": null,
   "metadata": {},
   "outputs": [],
   "source": [
    "import os\n",
    "import pandas as pd\n",
    "import folium\n",
    "\n",
    "print(folium.__version__)"
   ]
  },
  {
   "cell_type": "code",
   "execution_count": null,
   "metadata": {},
   "outputs": [],
   "source": [
    "df = pd.read_csv('df.csv')"
   ]
  },
  {
   "cell_type": "code",
   "execution_count": null,
   "metadata": {},
   "outputs": [],
   "source": [
    "test_df = df.loc[df['date_announced'] == '09/03/2020']"
   ]
  },
  {
   "cell_type": "code",
   "execution_count": 73,
   "metadata": {},
   "outputs": [
    {
     "data": {
      "text/html": [
       "<div>\n",
       "<style scoped>\n",
       "    .dataframe tbody tr th:only-of-type {\n",
       "        vertical-align: middle;\n",
       "    }\n",
       "\n",
       "    .dataframe tbody tr th {\n",
       "        vertical-align: top;\n",
       "    }\n",
       "\n",
       "    .dataframe thead th {\n",
       "        text-align: right;\n",
       "    }\n",
       "</style>\n",
       "<table border=\"1\" class=\"dataframe\">\n",
       "  <thead>\n",
       "    <tr style=\"text-align: right;\">\n",
       "      <th></th>\n",
       "      <th>Unnamed: 0</th>\n",
       "      <th>patient_number</th>\n",
       "      <th>date_announced</th>\n",
       "      <th>detected_city</th>\n",
       "      <th>detected_district</th>\n",
       "      <th>detected_state</th>\n",
       "      <th>latitude</th>\n",
       "      <th>longitude</th>\n",
       "    </tr>\n",
       "  </thead>\n",
       "  <tbody>\n",
       "    <tr>\n",
       "      <td>39</td>\n",
       "      <td>39</td>\n",
       "      <td>40</td>\n",
       "      <td>09/03/2020</td>\n",
       "      <td>Tri Nagar</td>\n",
       "      <td>North Delhi</td>\n",
       "      <td>Delhi</td>\n",
       "      <td>28.614179</td>\n",
       "      <td>77.202266</td>\n",
       "    </tr>\n",
       "    <tr>\n",
       "      <td>40</td>\n",
       "      <td>40</td>\n",
       "      <td>41</td>\n",
       "      <td>09/03/2020</td>\n",
       "      <td>Jammu</td>\n",
       "      <td>Jammu</td>\n",
       "      <td>Jammu and Kashmir</td>\n",
       "      <td>32.718561</td>\n",
       "      <td>74.858092</td>\n",
       "    </tr>\n",
       "    <tr>\n",
       "      <td>41</td>\n",
       "      <td>41</td>\n",
       "      <td>42</td>\n",
       "      <td>09/03/2020</td>\n",
       "      <td>Bengaluru</td>\n",
       "      <td>Bengaluru</td>\n",
       "      <td>Karnataka</td>\n",
       "      <td>12.979120</td>\n",
       "      <td>77.591300</td>\n",
       "    </tr>\n",
       "    <tr>\n",
       "      <td>42</td>\n",
       "      <td>42</td>\n",
       "      <td>43</td>\n",
       "      <td>09/03/2020</td>\n",
       "      <td>Kannur</td>\n",
       "      <td>Kannur</td>\n",
       "      <td>Kerala</td>\n",
       "      <td>11.876225</td>\n",
       "      <td>75.373804</td>\n",
       "    </tr>\n",
       "    <tr>\n",
       "      <td>43</td>\n",
       "      <td>43</td>\n",
       "      <td>44</td>\n",
       "      <td>09/03/2020</td>\n",
       "      <td>Pune</td>\n",
       "      <td>Pune</td>\n",
       "      <td>Maharashtra</td>\n",
       "      <td>18.521428</td>\n",
       "      <td>73.854454</td>\n",
       "    </tr>\n",
       "    <tr>\n",
       "      <td>44</td>\n",
       "      <td>44</td>\n",
       "      <td>45</td>\n",
       "      <td>09/03/2020</td>\n",
       "      <td>Pune</td>\n",
       "      <td>Pune</td>\n",
       "      <td>Maharashtra</td>\n",
       "      <td>18.521428</td>\n",
       "      <td>73.854454</td>\n",
       "    </tr>\n",
       "    <tr>\n",
       "      <td>45</td>\n",
       "      <td>45</td>\n",
       "      <td>46</td>\n",
       "      <td>09/03/2020</td>\n",
       "      <td>Amritsar</td>\n",
       "      <td>Amritsar</td>\n",
       "      <td>Punjab</td>\n",
       "      <td>31.634308</td>\n",
       "      <td>74.873679</td>\n",
       "    </tr>\n",
       "    <tr>\n",
       "      <td>46</td>\n",
       "      <td>46</td>\n",
       "      <td>47</td>\n",
       "      <td>09/03/2020</td>\n",
       "      <td>Agra</td>\n",
       "      <td>Agra</td>\n",
       "      <td>Uttar Pradesh</td>\n",
       "      <td>27.175255</td>\n",
       "      <td>78.009816</td>\n",
       "    </tr>\n",
       "    <tr>\n",
       "      <td>47</td>\n",
       "      <td>47</td>\n",
       "      <td>48</td>\n",
       "      <td>09/03/2020</td>\n",
       "      <td>Agra</td>\n",
       "      <td>Agra</td>\n",
       "      <td>Uttar Pradesh</td>\n",
       "      <td>27.175255</td>\n",
       "      <td>78.009816</td>\n",
       "    </tr>\n",
       "  </tbody>\n",
       "</table>\n",
       "</div>"
      ],
      "text/plain": [
       "    Unnamed: 0  patient_number date_announced detected_city detected_district  \\\n",
       "39          39              40     09/03/2020     Tri Nagar       North Delhi   \n",
       "40          40              41     09/03/2020         Jammu             Jammu   \n",
       "41          41              42     09/03/2020     Bengaluru         Bengaluru   \n",
       "42          42              43     09/03/2020        Kannur            Kannur   \n",
       "43          43              44     09/03/2020          Pune              Pune   \n",
       "44          44              45     09/03/2020          Pune              Pune   \n",
       "45          45              46     09/03/2020      Amritsar          Amritsar   \n",
       "46          46              47     09/03/2020          Agra              Agra   \n",
       "47          47              48     09/03/2020          Agra              Agra   \n",
       "\n",
       "       detected_state   latitude  longitude  \n",
       "39              Delhi  28.614179  77.202266  \n",
       "40  Jammu and Kashmir  32.718561  74.858092  \n",
       "41          Karnataka  12.979120  77.591300  \n",
       "42             Kerala  11.876225  75.373804  \n",
       "43        Maharashtra  18.521428  73.854454  \n",
       "44        Maharashtra  18.521428  73.854454  \n",
       "45             Punjab  31.634308  74.873679  \n",
       "46      Uttar Pradesh  27.175255  78.009816  \n",
       "47      Uttar Pradesh  27.175255  78.009816  "
      ]
     },
     "execution_count": 73,
     "metadata": {},
     "output_type": "execute_result"
    }
   ],
   "source": [
    "test_df"
   ]
  },
  {
   "cell_type": "code",
   "execution_count": null,
   "metadata": {},
   "outputs": [],
   "source": [
    "list(test_df['latitude']),list(test_df['longitude'])"
   ]
  },
  {
   "cell_type": "code",
   "execution_count": 56,
   "metadata": {},
   "outputs": [
    {
     "data": {
      "text/plain": [
       "[[28.6141793, 77.2022662, 4],\n",
       " [32.7185614, 74.8580917, 5],\n",
       " [12.979119800000001, 77.5912997, 9],\n",
       " [11.876225400000001, 75.37380429999999, 4],\n",
       " [18.521428, 73.8544541, 7],\n",
       " [18.521428, 73.8544541, 1],\n",
       " [31.634308299999997, 74.8736788, 1],\n",
       " [27.1752554, 78.0098161, 3],\n",
       " [27.1752554, 78.0098161, 8]]"
      ]
     },
     "execution_count": 56,
     "metadata": {},
     "output_type": "execute_result"
    }
   ],
   "source": [
    "testList=list()\n",
    "i=0\n",
    "while(i<len(test_df)):\n",
    "    testList.append([test_df.iloc[i]['latitude'],test_df.iloc[i]['longitude'],random.randint(1,10)])\n",
    "    i+=1\n",
    "testList"
   ]
  },
  {
   "cell_type": "code",
   "execution_count": 54,
   "metadata": {},
   "outputs": [
    {
     "data": {
      "text/plain": [
       "5"
      ]
     },
     "execution_count": 54,
     "metadata": {},
     "output_type": "execute_result"
    }
   ],
   "source": [
    "random.randint(1,10)"
   ]
  },
  {
   "cell_type": "code",
   "execution_count": 62,
   "metadata": {},
   "outputs": [
    {
     "data": {
      "text/html": [
       "<div style=\"width:100%;\"><div style=\"position:relative;width:100%;height:0;padding-bottom:60%;\"><iframe src=\"about:blank\" style=\"position:absolute;width:100%;height:100%;left:0;top:0;border:none !important;\" data-html=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 onload=\"this.contentDocument.open();this.contentDocument.write(atob(this.getAttribute('data-html')));this.contentDocument.close();\" allowfullscreen webkitallowfullscreen mozallowfullscreen></iframe></div></div>"
      ],
      "text/plain": [
       "<folium.folium.Map at 0x2106afd77c8>"
      ]
     },
     "execution_count": 62,
     "metadata": {},
     "output_type": "execute_result"
    }
   ],
   "source": [
    "from folium.plugins import HeatMap\n",
    "\n",
    "m = folium.Map([28., 77.], tiles='stamentoner', zoom_start=5)\n",
    "\n",
    "HeatMap(testList).add_to(m)\n",
    "\n",
    "# m.save(os.path.join('results', 'Heatmap.html'))\n",
    "\n",
    "m"
   ]
  },
  {
   "cell_type": "code",
   "execution_count": 88,
   "metadata": {},
   "outputs": [],
   "source": [
    "from folium.features import CustomIcon\n",
    "url = 'http://leafletjs.com/examples/custom-icons/{}'.format\n",
    "icon_image = url('leaf-red.png')\n",
    "shadow_image = url('leaf-shadow.png')\n",
    "\n",
    "icon = CustomIcon(\n",
    "    icon_image,\n",
    "    icon_size=(38, 95),\n",
    "    icon_anchor=(22, 94),\n",
    "    shadow_image=shadow_image,\n",
    "    shadow_size=(50, 64),\n",
    "    shadow_anchor=(4, 62),\n",
    "    popup_anchor=(-3, -76)\n",
    ")"
   ]
  },
  {
   "cell_type": "code",
   "execution_count": 97,
   "metadata": {
    "scrolled": false
   },
   "outputs": [
    {
     "data": {
      "text/html": [
       "<div style=\"width:100%;\"><div style=\"position:relative;width:100%;height:0;padding-bottom:60%;\"><iframe src=\"about:blank\" style=\"position:absolute;width:100%;height:100%;left:0;top:0;border:none !important;\" data-html=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 onload=\"this.contentDocument.open();this.contentDocument.write(atob(this.getAttribute('data-html')));this.contentDocument.close();\" allowfullscreen webkitallowfullscreen mozallowfullscreen></iframe></div></div>"
      ],
      "text/plain": [
       "<folium.folium.Map at 0x2106b12e408>"
      ]
     },
     "execution_count": 97,
     "metadata": {},
     "output_type": "execute_result"
    }
   ],
   "source": [
    "from folium.plugins import FastMarkerCluster\n",
    "icon_create_function = \"\"\"\\\n",
    "function(cluster) {\n",
    "return L.divIcon({\n",
    "html: '<b>' + cluster.getChildCount() + '</b>',\n",
    "className: 'marker-cluster marker-cluster-large',\n",
    "iconSize: new L.Point(0, 20)\n",
    "});\n",
    "}\"\"\"\n",
    "folium_map = folium.Map(location=[23.338315,77.089960],\n",
    "                        zoom_start=4,\n",
    "#                         tiles='CartoDB dark_matter',\n",
    "#                         tiles='stamentoner',\n",
    "                        tiles='cartodbpositron'\n",
    "                       )\n",
    "# test_df.apply(lambda row:folium.CircleMarker(location=[row[\"latitude\"], row[\"longitude\"]]).add_to(folium_map), axis=1)\n",
    "# ,icon_create_function=icon_create_function\n",
    "FastMarkerCluster(data=list(zip(test_df['latitude'].values, test_df['longitude'].values))).add_to(folium_map)\n",
    "folium.LayerControl().add_to(folium_map)\n",
    "\n",
    "folium_map"
   ]
  },
  {
   "cell_type": "code",
   "execution_count": null,
   "metadata": {},
   "outputs": [],
   "source": []
  }
 ],
 "metadata": {
  "kernelspec": {
   "display_name": "Python 3",
   "language": "python",
   "name": "python3"
  },
  "language_info": {
   "codemirror_mode": {
    "name": "ipython",
    "version": 3
   },
   "file_extension": ".py",
   "mimetype": "text/x-python",
   "name": "python",
   "nbconvert_exporter": "python",
   "pygments_lexer": "ipython3",
   "version": "3.7.4"
  }
 },
 "nbformat": 4,
 "nbformat_minor": 2
}
